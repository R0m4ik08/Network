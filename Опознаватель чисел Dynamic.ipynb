{
 "cells": [
  {
   "cell_type": "code",
   "execution_count": 1,
   "metadata": {},
   "outputs": [],
   "source": [
    "%matplotlib inline \n",
    "from skimage.io import imshow, imread, imsave \n",
    "import numpy as np\n",
    "import sys\n",
    "import random\n",
    "import math as ma"
   ]
  },
  {
   "cell_type": "code",
   "execution_count": 88,
   "metadata": {},
   "outputs": [],
   "source": [
    "def MSE(Pr,Exp_Pr):\n",
    "    a = abs(Pr-Exp_Pr)\n",
    "    return sum(a.T)/10\n",
    "\n",
    "def Result(Predict):\n",
    "    otv,a = np.where(np.array(Predict) == max(Predict))\n",
    "    otv =np.append(otv,max(Predict))\n",
    "    #print(max(Predict),'——',otv)\n",
    "    return otv\n",
    "    \n",
    "def CorrectPredict(Predict):\n",
    "    summ = sum(Predict)\n",
    "    return Predict / summ\n",
    "\n",
    "def TestLoss_():\n",
    "    TestLoss = [0,0,0,0,0,0,0,0,0,0]\n",
    "    for x in range(test_count,220):\n",
    "        img = imread('Desktop/LEARNING/{}.png'.format(x))\n",
    "        tabe = np.array(img)/255\n",
    "        tabe = tabe.reshape(784,1)\n",
    "        expected_p = np.zeros(10)\n",
    "        expected_p[x%10] = 1.0\n",
    "        Pr = NetWork.Predict(tabe)\n",
    "        TestLoss[x%10]+=(MSE(NetWork.Predict(tabe).T,expected_p)[0])\n",
    "    TL= np.array(TestLoss)/2\n",
    "    TL = sum(TL)/10\n",
    "    return TL\n",
    "   "
   ]
  },
  {
   "cell_type": "code",
   "execution_count": 3,
   "metadata": {},
   "outputs": [],
   "source": [
    "class First_net(object): \n",
    "\n",
    "    def __init__(self,Neirons = 0): \n",
    "        self.Weights = []\n",
    "        self.Outputs = []\n",
    "        self.S_L_R=0.001\n",
    "        for i in range(len(Neirons)-1):\n",
    "            Layer_W = np.random.normal(0., .1 ,(Neirons[i+1],Neirons[i]))\n",
    "            self.Weights.append(Layer_W)\n",
    "        self.sigmoid_maper = np.vectorize(self.sigmoid) \n",
    "        self.ReLuPr_m = np.vectorize(self.ReLuPr)\n",
    "        self.learningRate = self.S_L_R\n",
    "\n",
    "    def Set_L_R(self, L_R):\n",
    "        self.S_L_R = L_R\n",
    "        self.learningRate = self.S_L_R \n",
    "        \n",
    "    def sigmoid(self,x): \n",
    "        a = max(0.0,x)\n",
    "        return a \n",
    "    \n",
    "    def ReLuPr(self, x):\n",
    "        if x<0:\n",
    "            a = 0.01\n",
    "            return a\n",
    "        else:\n",
    "            a = 1.0\n",
    "            return a\n",
    "    \n",
    "    def MSET(self ,Pr,Exp_Pr):\n",
    "        a = (Pr-Exp_Pr)\n",
    "        return a\n",
    "    \n",
    "    def Predict(self,inputs):\n",
    "        output = inputs\n",
    "        self.Outputs = []\n",
    "        for step in range(len(Neirons)-2):\n",
    "            input_ = np.dot(self.Weights[step],output)\n",
    "            output = self.sigmoid_maper(input_)\n",
    "            self.Outputs.append(output)\n",
    "        \n",
    "        input_=np.dot(self.Weights[len(Neirons)-2],output)\n",
    "        output = self.sigmoid_maper(input_)\n",
    "        \n",
    "        #output = self.CorrectPredict(output)\n",
    "        \n",
    "        self.Outputs.append(output)\n",
    "        \n",
    "        return output\n",
    "\n",
    "\n",
    "    def Traning(self, inputs, expected_p):\n",
    "        \n",
    "        q = self.Predict(inputs).T\n",
    "       \n",
    "        errors = []\n",
    "        Ws_delta = []\n",
    "        error = np.array(self.MSET(q,expected_p)[0])\n",
    "        W_delta = self.ReLuPr_m(q)*error\n",
    "        Ws_delta.append(W_delta)\n",
    "        errors.append(error)\n",
    "        for i in range(len(Neirons)-2,0,-1):\n",
    "            errore = np.dot(self.Weights[i].T,error.T).T\n",
    "            errors.append(errore)\n",
    "            error = errore\n",
    "            \n",
    "            q = self.Outputs[i-1].T\n",
    "            W_delta =self.ReLuPr_m(q)*error\n",
    "            Ws_delta.append(W_delta.T)\n",
    "        \n",
    "        Ws_delta.reverse()\n",
    "        #errors.reverse()\n",
    "        Ws_delta[-1] = Ws_delta[-1].T\n",
    "        \n",
    "        Delta =np.dot(Ws_delta[0],inputs.T)\n",
    "        self.Weights[0] -=Delta*self.learningRate #np.dot(Ws_delta[0],inputs.T)*self.learningRate\n",
    "        for i in range(1,len(self.Weights)):\n",
    "            Delta =np.dot(Ws_delta[i],self.Outputs[i-1].T)\n",
    "            self.Weights[i] -=Delta*self.learningRate #np.dot(Ws_delta[i],self.Outputs[i-1].T)*self.learningRate   "
   ]
  },
  {
   "cell_type": "code",
   "execution_count": 77,
   "metadata": {
    "scrolled": true
   },
   "outputs": [
    {
     "name": "stdout",
     "output_type": "stream",
     "text": [
      "Введите колличество слоёв сети — 4\n",
      "Колличество нейронов в 1 -ом слое = 60\n",
      "Колличество нейронов в 2 -ом слое = 50\n",
      "Колличество нейронов в 3 -ом слое = 40\n",
      "Колличество нейронов в 4 -ом слое = 30\n"
     ]
    }
   ],
   "source": [
    "Input_n = 784\n",
    "Output_n = 10\n",
    "Neirons = []\n",
    "Neirons.append(Input_n)\n",
    "Count_HL = int(input('Введите колличество слоёв сети — '))\n",
    "for i in range(1,Count_HL+1):\n",
    "    Neirons.append(int(input(\"Колличество нейронов в {} -ом слое = \".format(i))))\n",
    "Neirons.append(Output_n)\n",
    "NetWork = First_net(Neirons = Neirons) "
   ]
  },
  {
   "cell_type": "code",
   "execution_count": 98,
   "metadata": {},
   "outputs": [],
   "source": [
    "NetWork = First_net(Neirons = Neirons) "
   ]
  },
  {
   "cell_type": "code",
   "execution_count": 78,
   "metadata": {},
   "outputs": [
    {
     "name": "stdout",
     "output_type": "stream",
     "text": [
      "Клличество эпох обучения == 1000\n"
     ]
    }
   ],
   "source": [
    "tabe = np.zeros(784).reshape(28,28)\n",
    "test_count = 200\n",
    "epochs = int(input('Клличество эпох обучения == '))"
   ]
  },
  {
   "cell_type": "code",
   "execution_count": 107,
   "metadata": {
    "scrolled": false
   },
   "outputs": [
    {
     "name": "stdout",
     "output_type": "stream",
     "text": [
      "Ставка обучения == 0.0005\n"
     ]
    }
   ],
   "source": [
    "NetWork.Set_L_R(float(input('Ставка обучения == '))) "
   ]
  },
  {
   "cell_type": "code",
   "execution_count": 108,
   "metadata": {},
   "outputs": [],
   "source": [
    "## Подгрузка тестовых материалов\n",
    "imgs = []\n",
    "nums = []\n",
    "for x in range(test_count):\n",
    "    imgs.append(imread('Desktop/LEARNING/{}.png'.format(x)))\n",
    "    nums.append(x) "
   ]
  },
  {
   "cell_type": "code",
   "execution_count": 109,
   "metadata": {
    "scrolled": false
   },
   "outputs": [
    {
     "name": "stdout",
     "output_type": "stream",
     "text": [
      "Progress — 100_% and Loss — 0.0001683060101951176, and Test loss 0.09522143976703329  "
     ]
    }
   ],
   "source": [
    "## ТРЕНИРОВКА\n",
    "minLoss = 1.0\n",
    "Tloss = TestLoss_()\n",
    "for a in range(epochs):\n",
    "    random.shuffle(nums)\n",
    "    losses=[]\n",
    "    for x in nums:\n",
    "        img = imgs[x]\n",
    "        tabe = np.array(img)/255\n",
    "        tabe = tabe.reshape(784,1) \n",
    "        expected_p = np.zeros(10)\n",
    "        expected_p[x%10] = 1.0\n",
    "        NetWork.Traning(tabe,expected_p.T)\n",
    "        losses.append(MSE(NetWork.Predict(tabe).T,expected_p)[0])\n",
    "    loss = (sum(losses)/test_count)\n",
    "    if (Tloss<minLoss) and (loss<0.10):\n",
    "        minLoss = Tloss\n",
    "        np.save('TMP_min_W.npy',NetWork.Weights)\n",
    "    Prog =(a+1)/epochs*100\n",
    "    if (Prog%5 == 0):\n",
    "        Tloss = TestLoss_()\n",
    "    sys.stdout.write(\"\\rProgress — {}_% and Loss — {}, and Test loss {} \".format(str(Prog)[:3],str(loss),Tloss))    \n",
    "            "
   ]
  },
  {
   "cell_type": "code",
   "execution_count": 110,
   "metadata": {
    "scrolled": true
   },
   "outputs": [
    {
     "name": "stdout",
     "output_type": "stream",
     "text": [
      "0.000770428312029087\n"
     ]
    }
   ],
   "source": [
    "print(minLoss)\n",
    "NetWork.Weights = np.load('TMP_min_W.npy')"
   ]
  },
  {
   "cell_type": "markdown",
   "metadata": {
    "scrolled": true
   },
   "source": [
    "##ТРЕНИРОВКА СТАРАЯ\n",
    "\n",
    "for a in range(epochs):\n",
    "    losses=[]\n",
    "    for x in range(test_count):\n",
    "        img = imread('Desktop/LEARNING/{}.png'.format(x))\n",
    "        tabe = np.array(img)/255\n",
    "        tabe = tabe.reshape(784,1) \n",
    "        expected_p = np.zeros(10)\n",
    "        expected_p[x%10] = 1.0\n",
    "        NetWork.Traning(tabe,expected_p.T)\n",
    "        losses.append(MSE(NetWork.Predict(tabe).T,expected_p)[0])\n",
    "    loss = (sum(losses)/test_count)\n",
    "    Prog =(a+1)/epochs*100\n",
    "    sys.stdout.write(\"\\rProgress — {}_% and Loss — {} \".format(str(Prog)[:3],str(loss)))"
   ]
  },
  {
   "cell_type": "code",
   "execution_count": 87,
   "metadata": {
    "scrolled": true
   },
   "outputs": [
    {
     "name": "stdout",
     "output_type": "stream",
     "text": [
      "[0.16961996 0.17835545 0.17293955 0.17941578 0.18521927 0.16953582\n",
      " 0.17682429 0.15729011 0.16884029 0.18086032]\n"
     ]
    }
   ],
   "source": [
    "## АНАЛИЗ ПОСЛЕ ТРЕНИРОВКИ\n",
    "\n",
    "TestLoss = [0,0,0,0,0,0,0,0,0,0]\n",
    "for x in range(test_count,220):\n",
    "    img = imread('Desktop/LEARNING/{}.png'.format(x))\n",
    "    tabe = np.array(img)/255\n",
    "    tabe = tabe.reshape(784,1)\n",
    "    expected_p = np.zeros(10)\n",
    "    expected_p[x%10] = 1.0\n",
    "    Pr = NetWork.Predict(tabe)\n",
    "    TestLoss[x%10]+=(MSE(NetWork.Predict(tabe).T,expected_p)[0])\n",
    "TL= np.array(TestLoss)/2\n",
    "print(TL)"
   ]
  },
  {
   "cell_type": "code",
   "execution_count": 68,
   "metadata": {
    "scrolled": true
   },
   "outputs": [
    {
     "name": "stdout",
     "output_type": "stream",
     "text": [
      "[[0.        ]\n",
      " [0.        ]\n",
      " [0.        ]\n",
      " [0.        ]\n",
      " [0.        ]\n",
      " [0.        ]\n",
      " [0.        ]\n",
      " [0.        ]\n",
      " [0.        ]\n",
      " [0.97677416]]\n",
      "Net give an answer —— 9.0 with 97._% Expext answer —— 9\n"
     ]
    },
    {
     "data": {
      "text/plain": [
       "<matplotlib.image.AxesImage at 0xe55a978>"
      ]
     },
     "execution_count": 68,
     "metadata": {},
     "output_type": "execute_result"
    },
    {
     "data": {
      "image/png": "[encoded data removed]",
      "text/plain": [
       "<Figure size 432x288 with 1 Axes>"
      ]
     },
     "metadata": {
      "needs_background": "light"
     },
     "output_type": "display_data"
    }
   ],
   "source": [
    "a = 19 #input(\"Выберети цыфру - \")\n",
    "imge = imread('Desktop/LEARNING/{}.png'.format(a))\n",
    "tabe = (np.array(imge)/255).reshape(784,1)\n",
    "otv = Result(NetWork.Predict(tabe))\n",
    "print(NetWork.Predict(tabe))\n",
    "print(\"Net give an answer —— {} with {}_% Expext answer —— {}\".format(otv[0],str(otv[1]*100)[:3],a%10))\n",
    "imshow(imge)"
   ]
  },
  {
   "cell_type": "code",
   "execution_count": 69,
   "metadata": {
    "scrolled": false
   },
   "outputs": [
    {
     "name": "stdout",
     "output_type": "stream",
     "text": [
      "[[0.        ]\n",
      " [0.        ]\n",
      " [0.        ]\n",
      " [0.00345146]\n",
      " [0.        ]\n",
      " [0.68000969]\n",
      " [0.31653885]\n",
      " [0.        ]\n",
      " [0.        ]\n",
      " [0.        ]]\n",
      "Net give an answer —— 5.0 with 68._% Expext answer —— 0\n"
     ]
    },
    {
     "data": {
      "text/plain": [
       "<matplotlib.image.AxesImage at 0xe5bb6a0>"
      ]
     },
     "execution_count": 69,
     "metadata": {},
     "output_type": "execute_result"
    },
    {
     "data": {
      "image/png": "[encoded data removed]",
      "text/plain": [
       "<Figure size 432x288 with 1 Axes>"
      ]
     },
     "metadata": {
      "needs_background": "light"
     },
     "output_type": "display_data"
    }
   ],
   "source": [
    "a = 0 #input(\"Выберети цыфру - \")\n",
    "imge = imread('Desktop/TESTS_1/{}.png'.format(a))\n",
    "tabe = (np.array(imge)/255).reshape(784,1)\n",
    "otv = Result(CorrectPredict(NetWork.Predict(tabe)))\n",
    "print(CorrectPredict(NetWork.Predict(tabe)))\n",
    "print(\"Net give an answer —— {} with {}_% Expext answer —— {}\".format(otv[0],str(otv[1]*100)[:3],a%10))\n",
    "imshow(imge)"
   ]
  },
  {
   "cell_type": "code",
   "execution_count": 261,
   "metadata": {},
   "outputs": [],
   "source": [
    "np.save('Vesa.npy',NetWork.Weights)"
   ]
  },
  {
   "cell_type": "code",
   "execution_count": 427,
   "metadata": {},
   "outputs": [],
   "source": [
    "S_Weights=NetWork.Weights"
   ]
  },
  {
   "cell_type": "code",
   "execution_count": 144,
   "metadata": {
    "scrolled": false
   },
   "outputs": [],
   "source": [
    "NetWork.Weights = np.load('Vesa.npy')"
   ]
  },
  {
   "cell_type": "code",
   "execution_count": null,
   "metadata": {},
   "outputs": [],
   "source": []
  },
  {
   "cell_type": "code",
   "execution_count": null,
   "metadata": {},
   "outputs": [],
   "source": []
  }
 ],
 "metadata": {
  "kernelspec": {
   "display_name": "Python 3",
   "language": "python",
   "name": "python3"
  },
  "language_info": {
   "codemirror_mode": {
    "name": "ipython",
    "version": 3
   },
   "file_extension": ".py",
   "mimetype": "text/x-python",
   "name": "python",
   "nbconvert_exporter": "python",
   "pygments_lexer": "ipython3",
   "version": "3.7.3"
  }
 },
 "nbformat": 4,
 "nbformat_minor": 2
}

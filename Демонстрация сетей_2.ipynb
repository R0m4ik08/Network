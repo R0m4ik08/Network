{
 "cells": [
  {
   "cell_type": "code",
   "execution_count": 1,
   "metadata": {},
   "outputs": [
    {
     "name": "stderr",
     "output_type": "stream",
     "text": [
      "Using TensorFlow backend.\n"
     ]
    }
   ],
   "source": [
    "import os,sys,glob, random\n",
    "import numpy as np\n",
    "from PIL import Image, ImageDraw\n",
    "from keras.models import load_model\n",
    "user=\"ПОЛЬЗОВАТЕЛЬ\"\n",
    "path = \"C:/Users/{}/Desktop/Бугаев/\".format(user)\n",
    "os.chdir(path)"
   ]
  },
  {
   "cell_type": "code",
   "execution_count": 2,
   "metadata": {},
   "outputs": [],
   "source": [
    "# Сосздания белого холста\n",
    "def im_in_white(im):\n",
    "    draw = ImageDraw.Draw(im)\n",
    "    width = im.size[0]\n",
    "    height = im.size[1]\n",
    "    pix = im.load()\n",
    "    for i in range(width):\n",
    "        for j in range(height):\n",
    "            draw.point((i,j),(255,255,255))\n",
    "    return(im)\n",
    "\n",
    "size = (400,400,3)\n",
    "holst = im_in_white(Image.new(\"RGB\",size[:2]))\n",
    "\n",
    "# Подгон изображения в рамки размера\n",
    "def podgon(path,size):\n",
    "    imge = Image.open(path)\n",
    "    imge.show()\n",
    "    shape = imge.size\n",
    "    if shape[0]>=shape[1]: \n",
    "        k = size[0]/shape[0]\n",
    "    else:\n",
    "         k = size[1]/shape[1]\n",
    "    height = round(shape[0]*k)\n",
    "    widht  = round(shape[1]*k)\n",
    "    out_imge = imge.resize((height , widht))\n",
    "    return(out_imge)\n",
    "\n",
    "# Вставка изображения в холст\n",
    "def past_im(holst,path_im,im):\n",
    "    if im == None:  im = Image.open(path_im)\n",
    "    draw = ImageDraw.Draw(holst)\n",
    "    width = im.size[0]\n",
    "    height = im.size[1]\n",
    "    pix = im.load()\n",
    "    for i in range(width):\n",
    "        for j in range(height):\n",
    "            r = pix[i,j][0] \n",
    "            g = pix[i,j][1] \n",
    "            b = pix[i,j][2]\n",
    "            draw.point((i,j),(r,g,b))\n",
    "    return(holst)\n",
    "\n",
    "def predict_(inp):\n",
    "    if inp[0]>= inp[1]:\n",
    "        v = round(inp[0]*100)\n",
    "        return [1,v]\n",
    "    else:\n",
    "        v = round(inp[1]*100)\n",
    "        return[0,v];   "
   ]
  },
  {
   "cell_type": "code",
   "execution_count": 31,
   "metadata": {},
   "outputs": [],
   "source": [
    "Net =[]\n",
    "Net.append(load_model(path + \"net/Зд.ул.h5\")) ## Неправильная сеть\n",
    "Net.append(load_model(path + \"net/Зд.ул.h5\"))\n",
    "Net.append(load_model(path + \"net/Д.н.h5\"))\n",
    "Net.append(load_model(path + \"net/Л.н.h5\"))\n",
    "Net.append(load_model(path + \"net/Од.мн.h5\"))"
   ]
  },
  {
   "cell_type": "code",
   "execution_count": 30,
   "metadata": {},
   "outputs": [],
   "source": [
    "del(Net)"
   ]
  },
  {
   "cell_type": "code",
   "execution_count": 63,
   "metadata": {},
   "outputs": [
    {
     "name": "stdout",
     "output_type": "stream",
     "text": [
      "Номер теста ———>>> 30\n",
      "Фотография сделана в здании с вероятностью 96.0_%\n",
      "Фотография сделана днём с вероятностью 57.0_%\n",
      "На фотографии присутствуют люди с вероятностью 100.0_%\n",
      "На фотографии более одного человека с вероятностью 99.0_%\n"
     ]
    }
   ],
   "source": [
    "n = input(\"Номер теста ———>>> \");\n",
    "\n",
    "path_ = path +\"test/1 ({}).jpg\".format(n);\n",
    "predict = []\n",
    "imge = past_im(holst,'',im=podgon(path_,size[:2]))\n",
    "tabe = np.array(imge)/255\n",
    "tabe = tabe.reshape(1,400,400,3)\n",
    "\n",
    "#Net = load_model(path + \"net/Те.h5\")\n",
    "predict.append(predict_([0,100]))#(Net.predict(tabe)))\n",
    "if predict[0][0] == 1: \n",
    "    print(\"На фотографии текст с вероятностью {}_%\".format(predict[0][1]))\n",
    "else:\n",
    "    #Net = load_model(path + \"net/Зд.ул.h5\")\n",
    "    predict.append(predict_(Net[1].predict(tabe)[0]))\n",
    "    if predict[1][0] == 1: \n",
    "        print(\"Фотография сделана в здании с вероятностью {}_%\".format(predict[1][1]))\n",
    "    else:    \n",
    "        print(\"Фотография сделана на улице с вероятностью {}_%\".format(predict[1][1]))\n",
    "    #Net = load_model(path + \"net/Д.н.h5\")\n",
    "    predict.append(predict_(Net[2].predict(tabe)[0]))\n",
    "    if predict[2][0] == 1: \n",
    "        print(\"Фотография сделана днём с вероятностью {}_%\".format(predict[2][1]))\n",
    "    else:    \n",
    "        print(\"Фотография сделана ночью с вероятностью {}_%\".format(predict[2][1]))\n",
    "    #Net = load_model(path + \"net/Л.н.h5\")\n",
    "    predict.append(predict_(Net[3].predict(tabe)[0]))\n",
    "    if predict[3][0] == 1: \n",
    "        print(\"На фотографии присутствуют люди с вероятностью {}_%\".format(predict[3][1]))\n",
    "        #Net = load_model(path + \"net/Од.мн.h5\")\n",
    "        predict.append(predict_(Net[4].predict(tabe)[0]))\n",
    "        if predict[4][0] == 0: \n",
    "                print(\"На фотографии более одного человека с вероятностью {}_%\".format(predict[4][1]))\n",
    "        else:    \n",
    "                print(\"На фотографии один человек с вероятностью {}_%\".format(predict[4][1]))\n",
    "    else:    \n",
    "        print(\"На фотографии нет людей с вероятностью {}_%\".format(predict[3][1]))\n",
    "        predict.append(predict_([0,0]))                   \n",
    "holst = im_in_white(holst)"
   ]
  },
  {
   "cell_type": "code",
   "execution_count": null,
   "metadata": {},
   "outputs": [],
   "source": []
  }
 ],
 "metadata": {
  "kernelspec": {
   "display_name": "Python 3",
   "language": "python",
   "name": "python3"
  },
  "language_info": {
   "codemirror_mode": {
    "name": "ipython",
    "version": 3
   },
   "file_extension": ".py",
   "mimetype": "text/x-python",
   "name": "python",
   "nbconvert_exporter": "python",
   "pygments_lexer": "ipython3",
   "version": "3.7.3"
  }
 },
 "nbformat": 4,
 "nbformat_minor": 2
}

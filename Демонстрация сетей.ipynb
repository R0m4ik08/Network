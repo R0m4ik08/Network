{
 "cells": [
  {
   "cell_type": "code",
   "execution_count": null,
   "metadata": {},
   "outputs": [],
   "source": [
    "pip install pillow"
   ]
  },
  {
   "cell_type": "code",
   "execution_count": null,
   "metadata": {},
   "outputs": [],
   "source": [
    "pip install numpy"
   ]
  },
  {
   "cell_type": "code",
   "execution_count": null,
   "metadata": {},
   "outputs": [],
   "source": [
    "pip install scikit-image"
   ]
  },
  {
   "cell_type": "code",
   "execution_count": null,
   "metadata": {},
   "outputs": [],
   "source": [
    "pip install tensorflow"
   ]
  },
  {
   "cell_type": "code",
   "execution_count": null,
   "metadata": {},
   "outputs": [],
   "source": [
    "import os,sys,glob,time\n",
    "import numpy as np\n",
    "from PIL import Image, ImageDraw\n",
    "from skimage.io import imshow, imread\n",
    "import tensorflow as tf\n",
    "path = os.getcwd()\n",
    "print(path)"
   ]
  },
  {
   "cell_type": "code",
   "execution_count": null,
   "metadata": {},
   "outputs": [],
   "source": [
    "## Загрузка сетей в память\n",
    "Net =[]\n",
    "t = time.time()\n",
    "Net.append(tf.keras.models.load_model(path + \"/net/Зд.ул.h5\")) ## Неправильная сеть\n",
    "Net.append(tf.keras.models.load_model(path + \"/net/Зд.ул.h5\"))\n",
    "Net.append(tf.keras.models.load_model(path + \"/net/Д.н.h5\"))\n",
    "Net.append(tf.keras.models.load_model(path + \"/net/Л.н.h5\"))\n",
    "Net.append(tf.keras.models.load_model(path + \"/net/Од.мн.h5\"))\n",
    "print(\"%s сек. Понадобилось для загрузки сетей\" % round(time.time()-t,2))"
   ]
  },
  {
   "cell_type": "code",
   "execution_count": null,
   "metadata": {},
   "outputs": [],
   "source": [
    "# Функция сосздания белого холста\n",
    "def im_in_white(im):\n",
    "    draw = ImageDraw.Draw(im)\n",
    "    width = im.size[0]\n",
    "    height = im.size[1]\n",
    "    pix = im.load()\n",
    "    for i in range(width):\n",
    "        for j in range(height):\n",
    "            draw.point((i,j),(255,255,255))\n",
    "    return(im)\n",
    "\n",
    "# Подгон изображения в рамки размера\n",
    "def podgon(path,size):\n",
    "    imge = Image.open(path)\n",
    "    imshow(imread(path))\n",
    "    shape = imge.size\n",
    "    if shape[0]>=shape[1]: \n",
    "        k = size[0]/shape[0]\n",
    "    else:\n",
    "         k = size[1]/shape[1]\n",
    "    height = round(shape[0]*k)\n",
    "    widht  = round(shape[1]*k)\n",
    "    out_imge = imge.resize((height , widht))\n",
    "    return(out_imge)\n",
    "\n",
    "# Вставка изображения в холст\n",
    "def past_im(holst,path_im,im):\n",
    "    if im == None:  im = Image.open(path_im)\n",
    "    draw = ImageDraw.Draw(holst)\n",
    "    width = im.size[0]\n",
    "    height = im.size[1]\n",
    "    pix = im.load()\n",
    "    for i in range(width):\n",
    "        for j in range(height):\n",
    "            r = pix[i,j][0] \n",
    "            g = pix[i,j][1] \n",
    "            b = pix[i,j][2]\n",
    "            draw.point((i,j),(r,g,b))\n",
    "    return(holst)\n",
    "\n",
    "\n",
    "# Интерпритация выхода сети в вероятность\n",
    "def predict_(inp):\n",
    "    if inp[0]>= inp[1]:\n",
    "        v = round(inp[0]*100)\n",
    "        return [1,v]\n",
    "    else:\n",
    "        v = round(inp[1]*100)\n",
    "        return[0,v];  \n",
    "\n",
    "# Функция объединяющая предсказания сетей в удобну форму для восприятия    \n",
    "size = (400,400,3)    \n",
    "def selecting_photos(n):\n",
    "    t = time.time()\n",
    "    path_ = path +\"/test/1 ({}).jpg\".format(n);\n",
    "    predict = []\n",
    "    holst = im_in_white(Image.new(\"RGB\",size[:2]))\n",
    "    imge = past_im(holst,'',im=podgon(path_,size[:2]))\n",
    "    tabe = np.array(imge)/255\n",
    "    tabe = tabe.reshape(1,400,400,3)\n",
    "    print(\"————————————————————————————————————————————————————>\")\n",
    "    predict.append(predict_([0,100])) ## Предсказание ещё не обученной сети\n",
    "    if predict[0][0] == 1: \n",
    "        print(\"На фотографии текст с вероятностью {}_%\".format(predict[0][1]))\n",
    "    else:\n",
    "        predict.append(predict_(Net[1].predict(tabe)[0]))\n",
    "        if predict[1][0] == 1: \n",
    "            print(\"Фотография сделана в здании с вероятностью {}_%\".format(predict[1][1]))\n",
    "        else:    \n",
    "            print(\"Фотография сделана на улице с вероятностью {}_%\".format(predict[1][1]))\n",
    "        predict.append(predict_(Net[2].predict(tabe)[0]))\n",
    "        if predict[2][0] == 1: \n",
    "            print(\"Фотография сделана днём с вероятностью {}_%\".format(predict[2][1]))\n",
    "        else:    \n",
    "            print(\"Фотография сделана ночью с вероятностью {}_%\".format(predict[2][1]))\n",
    "        predict.append(predict_(Net[3].predict(tabe)[0]))\n",
    "        if predict[3][0] == 1: \n",
    "            print(\"На фотографии присутствуют люди с вероятностью {}_%\".format(predict[3][1]))\n",
    "            predict.append(predict_(Net[4].predict(tabe)[0]))\n",
    "            if predict[4][0] == 0: \n",
    "                    print(\"На фотографии более одного человека с вероятностью {}_%\".format(predict[4][1]))\n",
    "            else:    \n",
    "                    print(\"На фотографии один человек с вероятностью {}_%\".format(predict[4][1]))\n",
    "        else:    \n",
    "            print(\"На фотографии нет людей с вероятностью {}_%\".format(predict[3][1]))\n",
    "            predict.append(predict_([0,0]))\n",
    "    t = round(time.time() - t,2)\n",
    "    print(\"Сеть дала ответ за %s сек.\" % t)\n",
    "    print(\"<————————————————————————————————————————————————————\")\n",
    "    holst = im_in_white(holst)\n",
    "    "
   ]
  },
  {
   "cell_type": "markdown",
   "metadata": {},
   "source": [
    "# !!!!!!!!!!!!!!!!!!!!!!!!!!!!!!!!!!!!!!!!"
   ]
  },
  {
   "cell_type": "code",
   "execution_count": null,
   "metadata": {
    "scrolled": false
   },
   "outputs": [],
   "source": [
    "# Исполнительный блок\n",
    "n = int(input(\"Номер теста от 1 до 30 ———>>> \"))\n",
    "if (n>0) and (n<=30):\n",
    "    selecting_photos(n)\n",
    "else:\n",
    "    print(\"Такого теста нет\")\n",
    "    "
   ]
  },
  {
   "cell_type": "code",
   "execution_count": null,
   "metadata": {
    "scrolled": true
   },
   "outputs": [],
   "source": [
    "## Прогон сети по N тестам\n",
    "t=time.time()\n",
    "N = 40\n",
    "for i in range(N):\n",
    "    selecting_photos(i+1);\n",
    "print(time.time()-t)"
   ]
  },
  {
   "cell_type": "code",
   "execution_count": null,
   "metadata": {},
   "outputs": [],
   "source": []
  }
 ],
 "metadata": {
  "kernelspec": {
   "display_name": "Python 3",
   "language": "python",
   "name": "python3"
  },
  "language_info": {
   "codemirror_mode": {
    "name": "ipython",
    "version": 3
   },
   "file_extension": ".py",
   "mimetype": "text/x-python",
   "name": "python",
   "nbconvert_exporter": "python",
   "pygments_lexer": "ipython3",
   "version": "3.7.3"
  }
 },
 "nbformat": 4,
 "nbformat_minor": 2
}

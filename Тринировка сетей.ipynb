{
 "cells": [
  {
   "cell_type": "code",
   "execution_count": null,
   "metadata": {
    "scrolled": false
   },
   "outputs": [],
   "source": [
    "import numpy as np\n",
    "from keras.callbacks import EarlyStopping\n",
    "from keras.models import Sequential,load_model\n",
    "from keras.layers import Dense,Dropout, Conv2D, MaxPooling2D,Flatten,Softmax,Activation\n",
    "from keras.optimizers import SGD, Adam, RMSprop,Nadam, Adadelta\n",
    "#from keras.utils import np_utils\n",
    "import scipy.misc\n",
    "import glob, random\n",
    "import os\n",
    "from keras import backend as K\n",
    "\n",
    "\n",
    "%matplotlib inline \n",
    "from skimage.io import imshow, imread, imsave \n",
    "os.chdir(\"C:/Users/ПОЛЬЗОВАТЕЛЬ/Desktop\")"
   ]
  },
  {
   "cell_type": "code",
   "execution_count": null,
   "metadata": {},
   "outputs": [],
   "source": [
    "Batches = 20\n",
    "num_epochs = 1\n",
    "N=40"
   ]
  },
  {
   "cell_type": "code",
   "execution_count": null,
   "metadata": {},
   "outputs": [],
   "source": [
    "def Val():\n",
    "    n=0\n",
    "    path = glob.glob(\"Выборка-Val/(*) *.jpg\")\n",
    "    print(len(path))\n",
    "    valid_in=[]\n",
    "    valid_out=[]\n",
    "    for i in path:\n",
    "        imge= imread(i)\n",
    "        tabe = np.array(imge)/255\n",
    "        valid_in.append(tabe)\n",
    "        if int(i[-5]) == 1:\n",
    "            valid_out.append((1,0))\n",
    "        else:\n",
    "            valid_out.append((0,1))\n",
    "        n+=1  \n",
    "    return [valid_in,valid_out]\n",
    "        \n",
    "def reform(in_):\n",
    "    return np.array(in_)\n",
    "\n",
    "        \n",
    "def shuffles():\n",
    "        n=0\n",
    "        path = glob.glob(\"Выборка\\(*) 1.jpg\")\n",
    "        print(\"Один - \",len(path))\n",
    "        random.shuffle(path)\n",
    "        out=[]\n",
    "        out.append(path[:450])\n",
    "\n",
    "        path = glob.glob(\"Выборка\\(*) 0.jpg\")\n",
    "        print(\"Много - \",len(path))\n",
    "        random.shuffle(path)\n",
    "        out.append(path[:450])\n",
    "        return out      \n",
    "        \n",
    "def load(path):\n",
    "    test_in = []\n",
    "    test_out = []\n",
    "    for i in path[0]:\n",
    "        test_out.append((1,0))\n",
    "        img = imread(i)\n",
    "        tabe = np.array(img)/255\n",
    "        test_in.append(tabe)\n",
    "    for i in path[1]:\n",
    "        test_out.append((0,1))\n",
    "        img = imread(i)\n",
    "        tabe = np.array(img)/255\n",
    "        test_in.append(tabe)    \n",
    "    \n",
    "    return ([test_in,test_out])\n",
    "        \n",
    "def sborka():\n",
    "    path=shuffles()\n",
    "    Load = load(path)\n",
    "    Load1 = np.zeros((len(Load[0]),400,400,3))\n",
    "    Load2 = []\n",
    "    for i in range(len(Load[0])):\n",
    "        Load1[i] = reform(Load[0][0])\n",
    "        Load2.append(Load[1][0])\n",
    "        del(Load[0][0],Load[1][0])\n",
    "    Load2 = np.array(Load2)\n",
    "    return ([Load1,Load2])\n",
    "\n",
    "def Load_Net(path):\n",
    "    Net = load_model(path)\n",
    "    Net.compile(loss = \"logcosh\",optimizer=Adadelta(),metrics=['accuracy'])\n",
    "    return(Net)\n",
    "    \n",
    "    "
   ]
  },
  {
   "cell_type": "code",
   "execution_count": null,
   "metadata": {},
   "outputs": [],
   "source": [
    "Valid = Val()"
   ]
  },
  {
   "cell_type": "code",
   "execution_count": null,
   "metadata": {},
   "outputs": [],
   "source": [
    "Valid1 = np.zeros((len(Valid[0]),400,400,3))\n",
    "for i in range(len(Valid[0])):\n",
    "    Valid1[i]=reform(Valid[0][i])\n",
    "    Valid[0][i]=0\n",
    "Valid = np.array(Valid[1])\n"
   ]
  },
  {
   "cell_type": "code",
   "execution_count": null,
   "metadata": {},
   "outputs": [],
   "source": [
    "i =9\n",
    "imshow(Valid1[i])\n",
    "print(Valid[i])"
   ]
  },
  {
   "cell_type": "code",
   "execution_count": null,
   "metadata": {
    "scrolled": true
   },
   "outputs": [],
   "source": [
    "print(\"Сеть получит {} выборок обучения \".format(N))\n",
    "Min_Loss = float(input(\"Пороговое значение ошибки - \"))\n",
    "for i in range(N):    \n",
    "    print(\"Выборка № \",i+1)\n",
    "    Load = sborka()\n",
    "    Net = Load_Net(\"Од.мн.h5\") \n",
    "    Net.fit(Load[0], \n",
    "            Load[1],\n",
    "            batch_size = Batches, \n",
    "            epochs = num_epochs,\n",
    "            validation_data = (Valid1,Valid)\n",
    "           )\n",
    "    accuracy = Net.evaluate(Valid1,Valid)[0]\n",
    "    if accuracy < Min_Loss:\n",
    "            print(\"Ошибка валидационной выборки - {}, что меньше чем наилучший показатель - {}\".format(accuracy,Min_Loss))\n",
    "            Min_Loss=accuracy\n",
    "            Net.save('Од.мн_loss({}).h5'.format(round(accuracy,4)))\n",
    "    Net.save('Од.мн.h5')\n",
    "    del (Load,Net)#,accuracy)"
   ]
  },
  {
   "cell_type": "code",
   "execution_count": null,
   "metadata": {},
   "outputs": [],
   "source": [
    "input_shape = (400,400,3)\n",
    "Net = Sequential()\n",
    "Net.add(Conv2D(5,input_shape = input_shape,kernel_size = (3,3),activation = K.relu))\n",
    "Net.add(MaxPooling2D(pool_size = (3,3)))\n",
    "Net.add(Conv2D(10,kernel_size = (3,3),activation = K.relu))\n",
    "Net.add(MaxPooling2D(pool_size = (3,3)))\n",
    "Net.add(Conv2D(15,kernel_size = (3,3),activation = K.relu))\n",
    "Net.add(MaxPooling2D(pool_size = (3,3)))\n",
    "Net.add(Conv2D(30,kernel_size = (3,3),activation = K.relu))\n",
    "Net.add(MaxPooling2D(pool_size = (3,3)))\n",
    "Net.add(Dropout(0.5))\n",
    "Net.add(Flatten())\n",
    "Net.add(Dense(50,activation = K.relu))\n",
    "Net.add(Dropout(0.5))\n",
    "Net.add(Dense(50,activation = K.relu))\n",
    "Net.add(Dropout(0.5))\n",
    "Net.add(Dense(50,activation = K.relu))\n",
    "Net.add(Dropout(0.5))\n",
    "Net.add(Dense(2,activation = K.softmax))\n",
    "Net.save('Од.мн.h5')\n",
    "Net.summary()\n",
    "del(Net)"
   ]
  }
 ],
 "metadata": {
  "kernelspec": {
   "display_name": "Python 3",
   "language": "python",
   "name": "python3"
  },
  "language_info": {
   "codemirror_mode": {
    "name": "ipython",
    "version": 3
   },
   "file_extension": ".py",
   "mimetype": "text/x-python",
   "name": "python",
   "nbconvert_exporter": "python",
   "pygments_lexer": "ipython3",
   "version": "3.7.3"
  }
 },
 "nbformat": 4,
 "nbformat_minor": 2
}
